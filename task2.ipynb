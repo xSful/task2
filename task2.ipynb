{
 "cells": [
  {
   "cell_type": "code",
   "execution_count": 1,
   "metadata": {},
   "outputs": [
    {
     "name": "stderr",
     "output_type": "stream",
     "text": [
      "Setting default log level to \"WARN\".\n",
      "To adjust logging level use sc.setLogLevel(newLevel). For SparkR, use setLogLevel(newLevel).\n",
      "24/07/25 22:44:38 WARN NativeCodeLoader: Unable to load native-hadoop library for your platform... using builtin-java classes where applicable\n"
     ]
    }
   ],
   "source": [
    "from pyspark.sql import SparkSession\n",
    "\n",
    "\n",
    "spark = SparkSession.builder.appName(\"Product-Category Join\").config(\"spark.driver.memory\", \"10g\").config(\"spark.executor.memory\", \"10g\").getOrCreate()\n",
    "# .config(\"spark.memory.offHeap.enabled\",\"true\").config(\"spark.memory.offHeap.size\",\"10g\")\n",
    "\n",
    "products = spark.createDataFrame([\n",
    "    (\"Product1\", \"Product1 Description\"),\n",
    "    (\"Product2\", \"Product2 Description\"),\n",
    "    (\"Product3\", \"Product3 Description\"),\n",
    "    (\"Product4\", \"Product4 Description\"),\n",
    "], [\"Product\", \"Description\"])\n",
    "\n",
    "categories = spark.createDataFrame([\n",
    "    (\"Category1\", \"Category1 Description\"),\n",
    "    (\"Category2\", \"Category2 Description\"),\n",
    "    (\"Category3\", \"Category3 Description\"),\n",
    "], [\"Category\", \"Description\"])\n",
    "\n",
    "product_categories = spark.createDataFrame([\n",
    "    (\"Product1\", \"Category1\"),\n",
    "    (\"Product1\", \"Category2\"),\n",
    "    (\"Product2\", \"Category1\"),\n",
    "    (\"Product3\", \"Category2\"),\n",
    "    (\"Product3\", \"Category3\"),\n",
    "], [\"Product\", \"Category\"])\n"
   ]
  },
  {
   "cell_type": "code",
   "execution_count": 2,
   "metadata": {},
   "outputs": [],
   "source": [
    "def show_pairs():\n",
    "    product_category_pairs = products.join(product_categories, products.Product == product_categories.Product).join(categories, product_categories.Category == categories.Category).select(products.Product, categories.Category)\n",
    "\n",
    "    products_no_categories = products.join(product_categories, products.Product == product_categories.Product, \"left\").where(product_categories.Product.isNull()).select(products.Product)\n",
    "\n",
    "    product_category_pairs.show()\n",
    "    products_no_categories.show()"
   ]
  },
  {
   "cell_type": "code",
   "execution_count": 3,
   "metadata": {},
   "outputs": [
    {
     "name": "stderr",
     "output_type": "stream",
     "text": [
      "                                                                                \r"
     ]
    },
    {
     "name": "stdout",
     "output_type": "stream",
     "text": [
      "+--------+---------+\n",
      "| Product| Category|\n",
      "+--------+---------+\n",
      "|Product2|Category1|\n",
      "|Product1|Category1|\n",
      "|Product3|Category2|\n",
      "|Product1|Category2|\n",
      "|Product3|Category3|\n",
      "+--------+---------+\n",
      "\n",
      "+--------+\n",
      "| Product|\n",
      "+--------+\n",
      "|Product4|\n",
      "+--------+\n",
      "\n"
     ]
    }
   ],
   "source": [
    "show_pairs()"
   ]
  },
  {
   "cell_type": "code",
   "execution_count": null,
   "metadata": {},
   "outputs": [],
   "source": []
  }
 ],
 "metadata": {
  "kernelspec": {
   "display_name": "venv",
   "language": "python",
   "name": "python3"
  },
  "language_info": {
   "codemirror_mode": {
    "name": "ipython",
    "version": 3
   },
   "file_extension": ".py",
   "mimetype": "text/x-python",
   "name": "python",
   "nbconvert_exporter": "python",
   "pygments_lexer": "ipython3",
   "version": "3.11.5"
  }
 },
 "nbformat": 4,
 "nbformat_minor": 2
}
